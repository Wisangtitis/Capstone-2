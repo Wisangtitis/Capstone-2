{
 "cells": [
  {
   "attachments": {},
   "cell_type": "markdown",
   "metadata": {},
   "source": [
    "## **CAPSTONE PROJECT MODULE 2**\n",
    "\n",
    "Crime in Boston\n",
    "\n",
    "By Gregorius Wisangtitis Setyaji"
   ]
  },
  {
   "cell_type": "code",
   "execution_count": null,
   "metadata": {},
   "outputs": [],
   "source": [
    "import pandas as pd\n",
    "import numpy as np\n",
    "import matplotlib.pyplot as plt\n",
    "import seaborn as sns\n",
    "import plotly.express as px\n",
    "import folium as fo\n",
    "from folium.plugins import HeatMap"
   ]
  },
  {
   "attachments": {},
   "cell_type": "markdown",
   "metadata": {},
   "source": [
    "## **IMPORTING DATA**\n"
   ]
  },
  {
   "cell_type": "code",
   "execution_count": null,
   "metadata": {},
   "outputs": [],
   "source": [
    "df = pd.read_csv(r'D:\\PURWADHIKA\\CAPSTONE PROJECT\\MODULE 2\\Crime in Boston\\crime.csv', encoding='windows-1254')\n",
    "\n",
    "df.head()"
   ]
  },
  {
   "attachments": {},
   "cell_type": "markdown",
   "metadata": {},
   "source": [
    "## **Data Summary**\n",
    "\n",
    "Data ini merupakan rekaman dari laporan tindak kriminal yang ada di Boston dari tanggal 14 Juni 2015 hingga 3 September 2018.\n",
    "Terdapat 17 Kolom default, dengan penjabaran sebagai berikut:\n",
    "1. INCIDENT_NUMBER = Unique Value, berupa nomor pelaporan tindak kriminal.\n",
    "2. OFFENSE_CODE = Kode OFFENSE tindak kriminal \n",
    "3. OFFENSE_CODE_GROUP = Penamaan Grup dari OFFENSE_CODE / jenis tindak kriminal\n",
    "4. OFFENSE_DESCRIPTION = Deskripsi dari OFFENSE_CODE_GROUP / tindak kriminal apa yang dilaporkan\n",
    "5. DISTRICT = Lokasi distrik kejadian tindak kriminal yang dilaporkan\n",
    "6. REPORTING_AREA = Klasifikasi kode distrik\n",
    "7. SHOOTING = Apakah dalam kejadian tindak kriminal tersebut dilaporkan ada penembakan senjata api atau tidak\n",
    "8. OCCURED_ON_DATE = Waktu kejadian tindak kriminal\n",
    "9. YEAR = Tahun kejadian tindak kriminal\n",
    "10. MONTH = Bulan kejadian tindak kriminal\n",
    "11. DAY_OF_WEEK = Hari kejadian tindak kriminal\n",
    "12. HOUR = Pada pukul berapa kejadian tindak kriminal\n",
    "13. UCR_PART = Kategori tindak kriminal berdasarkan UCR\n",
    "14. STREET = Di jalan apa kejadian tindak kriminal\n",
    "15. LAT = Lokasi Latitude / lintang kejadian tindak kriminal\n",
    "16. LONG = Lokasi Longitude / bujur kejadian tindak kriminal\n",
    "17. LOCATION = Berisi Lat dan Long yang dijadikan satu string (tidak dipisah Lat dan Long)\n",
    "\n",
    "Dapat dikatakan bahwa semua kolom yang ada pada data ini memiliki jenis data nominal (bukan numerik), tidak ada angka/value yang bisa dihitung dari semua kolom (pengecualian pada kolom Lat Long yang menandakan lokasi).\n",
    "\n",
    "Berdasarkan keterangan di atas, dapat diasumsikan bahwa semua kolom memiliki distribusi yang tidak normal (data nominal kategorik, value dari setiap kolom hanya label dan tidak melambangkan kedudukan/tingkatan tertentu)."
   ]
  },
  {
   "cell_type": "code",
   "execution_count": null,
   "metadata": {},
   "outputs": [],
   "source": [
    "df.info()"
   ]
  },
  {
   "attachments": {},
   "cell_type": "markdown",
   "metadata": {},
   "source": [
    "## **CHECK GENERAL INFO & DATA ANOMALIES**\n",
    "\n",
    "Tahapan untuk check bagaimana bentuk datanya, apa tipe data tiap kolom, serta cek ada berapa baris data yang kosong (null data) tiap kolomnya.\n"
   ]
  },
  {
   "cell_type": "code",
   "execution_count": null,
   "metadata": {},
   "outputs": [],
   "source": [
    "df.shape"
   ]
  },
  {
   "cell_type": "code",
   "execution_count": null,
   "metadata": {},
   "outputs": [],
   "source": [
    "df.describe(include= 'all')"
   ]
  },
  {
   "cell_type": "code",
   "execution_count": null,
   "metadata": {},
   "outputs": [],
   "source": [
    "print('\\n','-'*30, \"INFO TIAP KOLOM PADA DATA\",'-'*30, '\\n')\n",
    "display(df.info())\n",
    "print('-'*100)\n",
    "print('\\n','-'*30, \"JUMLAH NULL DATA TIAP KOLOM\",'-'*30, '\\n')\n",
    "display(df.isna().sum())"
   ]
  },
  {
   "attachments": {},
   "cell_type": "markdown",
   "metadata": {},
   "source": [
    "## **Handling Anomalies**\n",
    "\n",
    "Tahap untuk menghilangkan data anomali.\n",
    "\n",
    "- Pada kolom OCCURRED_ON_DATE seharusnya bertipe datetime.\n",
    "\n",
    "- Sebanyak 0,5% baris pada kolom DISTRICT berupa null data, baris ini akan dihapus mengingat jumlah 0,5% dapat diasumsikan tidak akan merubah keseluruhan struktur data jika digunakan sebagai bahan analisis.\n",
    "\n",
    "- Sebanyak 3% baris pada kolom STREET berupa null data, baris ini akan dihapus mengingat jumlah 3% dapat diasumsikan tidak akan merubah keseluruhan struktur data jika digunakan sebagai bahan analisis.\n",
    "\n",
    "- Sebanyak 6% baris pada kolom Latitude dan Longtitude berupa null data. Namun terdapat kolom Location yang juga berisi informasi Decimal Degree Latitude dan Longtitude, sehingga kolom Latitude dan Longtitude akan digantikan datanya berdasarkan split data dari kolom Location.\n",
    "Juga terdapat 3% row dari lat long yang memiliki value 0 dan -1, datanya akan di drop.\n",
    "\n",
    "- Sebanyak 99% baris pada kolom SHOOTING berupa null data, sebanyak 99% null data ini dapat diartikan sebagai \"No Shooting\" dan akan diisikan dengan N (No Shooting).\n",
    "\n",
    "- Membuat kolom YearMonth baru yang berasal dari gabungan kolom YEAR dan MONTH untuk mempermudah analisis time-series (tipe datetime).\n"
   ]
  },
  {
   "cell_type": "code",
   "execution_count": null,
   "metadata": {},
   "outputs": [],
   "source": [
    "# Code untuk merubah tipe data\n",
    "\n",
    "df['OCCURRED_ON_DATE'] = pd.to_datetime(df['OCCURRED_ON_DATE'])\n",
    "# df['YEAR'] = df['YEAR'].apply(str)\n",
    "# df['MONTH'] = df['MONTH'].apply(str)\n",
    "# df['HOUR'] = df['HOUR'].apply(str)"
   ]
  },
  {
   "cell_type": "code",
   "execution_count": null,
   "metadata": {},
   "outputs": [],
   "source": [
    "# Code untuk drop kolom yang tidak terpaikai (Lat Long akan diisikan dengan Location)\n",
    "\n",
    "df.drop(['Lat', 'Long'], axis = 1, inplace=True)\n"
   ]
  },
  {
   "cell_type": "code",
   "execution_count": null,
   "metadata": {},
   "outputs": [],
   "source": [
    "# Code untuk split kolom Location menjadi Lat dan Long\n",
    "\n",
    "split = df['Location'].str.strip(')').str.strip('(').str.split(', ')\n",
    "df['Lat'] = split.apply(lambda x: x[0])\n",
    "df['Long'] = split.apply(lambda x: x[1])\n",
    "df['Lat'] = pd.to_numeric(df['Lat'])\n",
    "df['Long'] = pd.to_numeric(df['Long'])"
   ]
  },
  {
   "cell_type": "code",
   "execution_count": null,
   "metadata": {},
   "outputs": [],
   "source": [
    "# value lat long 0 dan -1 menjadi nan\n",
    "\n",
    "df['Lat'].replace(-1,np.nan,inplace=True)\n",
    "df['Long'].replace(-1,np.nan,inplace=True)\n",
    "df['Lat'].replace(0,np.nan,inplace=True)\n",
    "df['Long'].replace(0,np.nan,inplace=True)"
   ]
  },
  {
   "cell_type": "code",
   "execution_count": null,
   "metadata": {},
   "outputs": [],
   "source": [
    "df['SHOOTING'].replace(np.nan,'N',inplace=True)"
   ]
  },
  {
   "cell_type": "code",
   "execution_count": null,
   "metadata": {},
   "outputs": [],
   "source": [
    "# Code untuk drop row yang kosong\n",
    "\n",
    "df.dropna(subset=['DISTRICT'], inplace=True)\n",
    "df.dropna(subset=['STREET'], inplace=True)\n",
    "df.dropna(subset=['UCR_PART'], inplace=True)\n",
    "df.dropna(subset=['Lat'], inplace=True)\n",
    "df.dropna(subset=['Long'], inplace=True)"
   ]
  },
  {
   "cell_type": "code",
   "execution_count": null,
   "metadata": {},
   "outputs": [],
   "source": [
    "df[\"MonthYear\"] = df['YEAR'].astype(str) +\"-\"+ df[\"MONTH\"].astype(str)\n",
    "df['MonthYear'] = pd.to_datetime(df['MonthYear'])"
   ]
  },
  {
   "cell_type": "code",
   "execution_count": null,
   "metadata": {},
   "outputs": [],
   "source": [
    "df.head()"
   ]
  },
  {
   "attachments": {},
   "cell_type": "markdown",
   "metadata": {},
   "source": [
    "## **Check Data Duplicate**\n",
    "\n",
    "Terdapat data duplikat, akan ditangani dengan dihapus datanya."
   ]
  },
  {
   "cell_type": "code",
   "execution_count": null,
   "metadata": {},
   "outputs": [],
   "source": [
    "# Check Dupliacate\n",
    "\n",
    "print(f'Jumlah data duplikat: ',df.duplicated().sum())\n",
    "print('-'*100)\n",
    "display(df[df.duplicated()])\n"
   ]
  },
  {
   "cell_type": "code",
   "execution_count": null,
   "metadata": {},
   "outputs": [],
   "source": [
    "# Code untuk drop data duplikat\n",
    "\n",
    "df.drop_duplicates(inplace=True)"
   ]
  },
  {
   "attachments": {},
   "cell_type": "markdown",
   "metadata": {},
   "source": [
    "## **Recheck Data**"
   ]
  },
  {
   "cell_type": "code",
   "execution_count": null,
   "metadata": {},
   "outputs": [],
   "source": [
    "df.describe(include= 'all')"
   ]
  },
  {
   "attachments": {},
   "cell_type": "markdown",
   "metadata": {},
   "source": [
    "Terdapat INCIDENT_NUMBER ganda, namun keterangan pada kolom lainnya berbeda, seperti contoh memiliki OFFENSE_CODE_GROUP yang berbeda."
   ]
  },
  {
   "cell_type": "code",
   "execution_count": null,
   "metadata": {},
   "outputs": [],
   "source": [
    "df[df['INCIDENT_NUMBER'].duplicated()]"
   ]
  },
  {
   "cell_type": "code",
   "execution_count": null,
   "metadata": {},
   "outputs": [],
   "source": [
    "print('\\n','-'*30, \"INFO TIAP KOLOM PADA DATA\",'-'*30, '\\n')\n",
    "display(df.info())\n",
    "print('-'*100)\n",
    "print('\\n','-'*30, \"JUMLAH NULL DATA TIAP KOLOM\",'-'*30, '\\n')\n",
    "display(df.isna().sum())"
   ]
  },
  {
   "cell_type": "code",
   "execution_count": null,
   "metadata": {},
   "outputs": [],
   "source": [
    "# Check Dupliacate\n",
    "\n",
    "print(f'Jumlah data duplikat: ',df.duplicated().sum())\n",
    "print('-'*100)\n",
    "display(df[df.duplicated()])"
   ]
  },
  {
   "attachments": {},
   "cell_type": "markdown",
   "metadata": {},
   "source": [
    "## **Merging Tables**\n",
    "\n",
    "Terdapat data penjabaran dari OFFENSE_CODE dari tabel offense_codes.csv, akan diimport sebagai df2 dan nantinya akan digabungkan ke dataframe utama (df)\n",
    "Kolom CODE pada Dataframe df2 terdapat duplikat yang memiliki NAME serupa namun penulisannya terdapat tambahan 'spasi', nantinya row duplicate ini akan didrop sebagai tahapan cleaning data df2. "
   ]
  },
  {
   "cell_type": "code",
   "execution_count": null,
   "metadata": {},
   "outputs": [],
   "source": [
    "# Import df2\n",
    "\n",
    "df2 = pd.read_csv(r'D:\\PURWADHIKA\\CAPSTONE PROJECT\\MODULE 2\\Crime in Boston\\offense_codes.csv', encoding='windows-1254')\n",
    "\n",
    "df2.head()"
   ]
  },
  {
   "cell_type": "code",
   "execution_count": null,
   "metadata": {},
   "outputs": [],
   "source": [
    "#  Check duplicate on CODE column\n",
    "\n",
    "df2[df2['CODE'].duplicated()]"
   ]
  },
  {
   "cell_type": "code",
   "execution_count": null,
   "metadata": {},
   "outputs": [],
   "source": [
    "# Contoh data duplikat\n",
    "\n",
    "df2.loc[df2['CODE']==111]"
   ]
  },
  {
   "cell_type": "code",
   "execution_count": null,
   "metadata": {},
   "outputs": [],
   "source": [
    "# Drop duplicate dari df2 kolom CODE\n",
    "\n",
    "df2.drop_duplicates(subset = 'CODE', inplace=True)"
   ]
  },
  {
   "cell_type": "code",
   "execution_count": null,
   "metadata": {},
   "outputs": [],
   "source": [
    "# Recheck Duplicate\n",
    "\n",
    "df2[df2['CODE'].duplicated()]"
   ]
  },
  {
   "cell_type": "code",
   "execution_count": null,
   "metadata": {},
   "outputs": [],
   "source": [
    "# Join df dan df2\n",
    "\n",
    "df = pd.merge(df, df2, left_on='OFFENSE_CODE', right_on='CODE', how= 'left')\n",
    "\n",
    "# Drop kolom yang tidak perlu ([CODE])\n",
    "\n",
    "df.drop(['CODE'], axis= 1, inplace= True)\n",
    "\n",
    "df.rename(columns = {'NAME':'OFFENSE_NAME'}, inplace = True)\n",
    "df.insert(4, 'OFFENSE_NAME', df.pop('OFFENSE_NAME'))\n",
    "\n",
    "df.head()"
   ]
  },
  {
   "cell_type": "code",
   "execution_count": null,
   "metadata": {},
   "outputs": [],
   "source": [
    "# Check jumlah left table, sudah sama dengan sebelum join tables (296.399 rows)\n",
    "\n",
    "df.info()"
   ]
  },
  {
   "attachments": {},
   "cell_type": "markdown",
   "metadata": {},
   "source": [
    "## **Big Question?**\n",
    "\n",
    "1. Bagaimana tren jumlah pelaporan tindak kriminalitas di Boston dari tahun-ke-tahun?\n",
    "\n",
    "2. Tindak kriminalitas apa yang paling sering dilaporkan di Boston? (annual dan total populasi data). OFFENSE_CODE_GROUP atau OFFENSE_DESCRIPTION.\n",
    "\n",
    "3. Distrik mana yang banyak dilaporkan mengalami tindak kriminal? Apa jenisnya? DISTRICT, OFFENSE_CODE_GROUP.\n",
    "\n",
    "4. Pelaporan tindak kriminalitas terbanyak berdasarkan jenis dan lokasi lat-long atau distrik. LAT-LONG or DISTRICT.\n",
    "\n",
    "5. Adakah perpindahan kecenderungan lokasi tindak kriminalitas yang dilaporkan dari tahun-ke-tahun? OCCURRED_ON_DATE.\n",
    "\n",
    "6. Adakah perbedaan jenis kriminalitas yang dilaporkan berdasarkan waktu dalam sehari? dengan anggapan:\n",
    "    - 5-10 adalah pagi,\n",
    "    - 11-16 adalah siang,\n",
    "    - 17-22 adalah sore,\n",
    "    - 23-4 adalah malam.\n",
    "\n",
    "7. Adakah kecenderungan tindak kriminalitas tertentu yang dilaporkan di hari tertentu? OFFENSE_CODE_GROUP dan DAY_OF_WEEK."
   ]
  },
  {
   "attachments": {},
   "cell_type": "markdown",
   "metadata": {},
   "source": [
    "## **Explore the Data**\n",
    "\n",
    "Deskripsi statistik singkat dari data, dapat terlihat hal sebagai berikut:\n",
    "- Dari 63 OFFENSE_CODE_GROUP / jenis tindak kriminal yang ada, paling sering dilaporkan adalah Motor Vehicle Accident Response (kecelakaan kendaraan bermotor).\n",
    "- Terdapat 12 distrik di Boston, dan yang paling sering dilaporkan ada kejadian tindak kriminal adalah distrik B2.\n",
    "- 99% dari total pelaporan kejadian tindak kriminal tidak disertai dengan penembakan senjata api (shooting).\n",
    "- Pelaporan tindak kriminal paling sering dilaporkan di hari Jumat (Friday).\n",
    "- Berdasarkan kategori UCR nya, paling sering dilaporkan adalah tindak kriminal dengan UCR Part Three.\n",
    "- Tindak kriminal yang paling sering dilaporkan terjadi di jalan Washington."
   ]
  },
  {
   "cell_type": "code",
   "execution_count": null,
   "metadata": {},
   "outputs": [],
   "source": [
    "df.describe(include='all')"
   ]
  },
  {
   "cell_type": "code",
   "execution_count": null,
   "metadata": {},
   "outputs": [],
   "source": [
    "df.head()"
   ]
  },
  {
   "cell_type": "code",
   "execution_count": null,
   "metadata": {},
   "outputs": [],
   "source": [
    "print('Total semua Data (bersih) : ', df.shape[0])\n",
    "print('Nilai Unik pada kolom INCIDENT_NUMBER : ', df['INCIDENT_NUMBER'].nunique())\n",
    "print('\\nTerdapat INCIDENT_NUMBER yang sama di dalam dataframe, namun setiap barisnya tetap unik karena OFFENSE_CODE yang berbeda.')"
   ]
  },
  {
   "attachments": {},
   "cell_type": "markdown",
   "metadata": {},
   "source": [
    "## **Tren Jumlah Tindak Kriminal di Boston Annually**\n",
    "\n",
    "Jumlah data yang didapatkan adalah rekaman data dari Tahun 2015 sampai dengan 2018, namun perekaman data pada tahun 2015 dan 2018 memang tidak penuh selama satu tahun. Hal ini akan mengakibatkan missinterpretasi jika digunakan untuk melihat tren (mengingat jumlah data di tahun 2015 dan 2018 tidak sebanding dengan data 2016 dan 2017 yang durasi perekaman datanya satu tahun penuh)."
   ]
  },
  {
   "cell_type": "code",
   "execution_count": null,
   "metadata": {},
   "outputs": [],
   "source": [
    "trendYear = df.groupby('YEAR')['INCIDENT_NUMBER'].count()"
   ]
  },
  {
   "cell_type": "code",
   "execution_count": null,
   "metadata": {},
   "outputs": [],
   "source": [
    "sns.lineplot(data = trendYear)\n",
    "plt.title('Grafik Jumlah Laporan Tindak Kriminal tahun 2015 - 2018')\n",
    "plt.xticks([2015,2016,2017,2018])\n",
    "plt.grid()\n"
   ]
  },
  {
   "attachments": {},
   "cell_type": "markdown",
   "metadata": {},
   "source": [
    "Jika dilihat pada grafik, terjadi kenaikan jumlah insiden tindak kriminal dari tahun 2016 ke 2017.\n",
    "Grafik ini tidak bisa digunakan sebagai acuan, mengingat perekaman data pada tahun 2015 dan 2018 tidak berdurasi satu tahun penuh."
   ]
  },
  {
   "cell_type": "code",
   "execution_count": null,
   "metadata": {},
   "outputs": [],
   "source": [
    "strip = df[(df['MonthYear'] > '2015-07-01') & (df['MonthYear'] < '2018-09-01')]\n",
    "trendMonth = strip.groupby('MonthYear')['INCIDENT_NUMBER'].count()\n"
   ]
  },
  {
   "cell_type": "code",
   "execution_count": null,
   "metadata": {},
   "outputs": [],
   "source": [
    "fig,ax = plt.subplots(figsize=(15,15))\n",
    "\n",
    "sns.lineplot(data = trendMonth, ax=ax)\n",
    "\n",
    "\n",
    "plt.xticks(rotation = 90)\n",
    "plt.xlabel(\"Tanggal\", fontsize = 15)\n",
    "plt.ylabel(\"Jumlah Tindak Kriminal\", fontsize = 15)\n",
    "plt.title(\"Tren Jumlah Tindak Kriminal dari Waktu ke Waktu\", fontsize = 30)\n",
    "plt.grid(alpha = 0.2)\n",
    "\n",
    "# axvline untuk pembagian tahun\n",
    "plt.axvline(pd.Timestamp('2015-12-31'), color='g', alpha = 0.9)\n",
    "plt.axvline(pd.Timestamp('2016-12-31'), color='g', alpha = 0.9)\n",
    "plt.axvline(pd.Timestamp('2017-12-31'), color='g', alpha = 0.9)\n",
    "\n",
    "# axvline label pembagian tahun\n",
    "plt.text(pd.Timestamp('2015-08-28'), y = 8400, s = '2015',color='g',ha = 'right', va = 'top', fontsize = 14)\n",
    "plt.text(pd.Timestamp('2016-06-28'), y = 8400, s = '2016',color='g',ha = 'right', va = 'top', fontsize = 14)\n",
    "plt.text(pd.Timestamp('2017-06-28'), y = 8400, s = '2017',color='g',ha = 'right', va = 'top', fontsize = 14)\n",
    "plt.text(pd.Timestamp('2018-06-28'), y = 8400, s = '2018',color='g',ha = 'right', va = 'top', fontsize = 14)\n",
    "\n",
    "# axvline untuk pembagian season\n",
    "plt.axvline(pd.Timestamp('2015-09-23'), ls = '--', color='r', alpha = 0.3)\n",
    "plt.axvline(pd.Timestamp('2015-12-22'), ls = '--', color='r', alpha = 0.3)\n",
    "plt.axvline(pd.Timestamp('2016-03-21'), ls = '--', color='r', alpha = 0.3)\n",
    "plt.axvline(pd.Timestamp('2016-06-21'), ls = '--', color='r', alpha = 0.3)\n",
    "plt.axvline(pd.Timestamp('2016-09-23'), ls = '--', color='r', alpha = 0.3)\n",
    "plt.axvline(pd.Timestamp('2016-12-22'), ls = '--', color='r', alpha = 0.3)\n",
    "plt.axvline(pd.Timestamp('2017-03-21'), ls = '--', color='r', alpha = 0.3)\n",
    "plt.axvline(pd.Timestamp('2017-06-21'), ls = '--', color='r', alpha = 0.3)\n",
    "plt.axvline(pd.Timestamp('2017-09-23'), ls = '--', color='r', alpha = 0.3)\n",
    "plt.axvline(pd.Timestamp('2017-12-22'), ls = '--', color='r', alpha = 0.3)\n",
    "plt.axvline(pd.Timestamp('2018-03-21'), ls = '--', color='r', alpha = 0.3)\n",
    "plt.axvline(pd.Timestamp('2018-06-21'), ls = '--', color='r', alpha = 0.3)\n",
    "plt.axvline(pd.Timestamp('2018-09-23'), ls = '--', color='r', alpha = 0.3)\n",
    "\n",
    "# axvline label season\n",
    "plt.text(pd.Timestamp('2015-08-23'), y = 8000, s = 'Fall',color='r',ha = 'right', va = 'top')\n",
    "plt.text(pd.Timestamp('2015-11-22'), y = 8000, s = 'Winter',color='r',ha = 'right', va = 'top')\n",
    "plt.text(pd.Timestamp('2016-02-21'), y = 8000, s = 'Spring',color='r',ha = 'right', va = 'top')\n",
    "plt.text(pd.Timestamp('2016-05-21'), y = 8000, s = 'Summer',color='r',ha = 'right', va = 'top')\n",
    "plt.text(pd.Timestamp('2016-08-23'), y = 8000, s = 'Fall',color='r',ha = 'right', va = 'top')\n",
    "plt.text(pd.Timestamp('2016-11-22'), y = 8000, s = 'Winter',color='r',ha = 'right', va = 'top')\n",
    "plt.text(pd.Timestamp('2017-02-21'), y = 8000, s = 'Spring',color='r',ha = 'right', va = 'top')\n",
    "plt.text(pd.Timestamp('2017-05-21'), y = 8000, s = 'Summer',color='r',ha = 'right', va = 'top')\n",
    "plt.text(pd.Timestamp('2017-08-23'), y = 8000, s = 'Fall',color='r',ha = 'right', va = 'top')\n",
    "plt.text(pd.Timestamp('2017-11-22'), y = 8000, s = 'Winter',color='r',ha = 'right', va = 'top')\n",
    "plt.text(pd.Timestamp('2018-02-21'), y = 8000, s = 'Spring',color='r',ha = 'right', va = 'top')\n",
    "plt.text(pd.Timestamp('2018-05-21'), y = 8000, s = 'Summer',color='r',ha = 'right', va = 'top')\n",
    "plt.text(pd.Timestamp('2018-08-23'), y = 8000, s = 'Fall',color='r',ha = 'right', va = 'top')\n",
    "\n",
    "plt.show()"
   ]
  },
  {
   "attachments": {},
   "cell_type": "markdown",
   "metadata": {},
   "source": [
    "- Berdasarkan data dalam grafik tren bulanan, tren dari jumlah tindak kriminal memang sangat fluktuatif naik turun.\n",
    "\n",
    "- Menariknya, jika dilihat berdasarkan 4 musim yang ada, pada musim semi (spring, sekitar pertengahan bulan Maret hingga Juni) jumlah tindak kriminal selalu paling rendah dibandingkan pada musim-musim yang lain.\n",
    "\n",
    "- Selalu terjadi kenaikan jumlah tindak kriminal dari musim semi (spring) dan puncak pada tahun tersebut ada di musim panas (summer), kejadian ini selalu terjadi di tahun 2016 hingga 2018.\n",
    "\n",
    "- Terlihat ada turning point penurunan jumlah laporan tindak kriminal yang selalu terjadi pada pergantian tahun (lihat garis hijau)."
   ]
  },
  {
   "attachments": {},
   "cell_type": "markdown",
   "metadata": {},
   "source": [
    "**Jenis Tindak Kriminalitas Terbanyak**"
   ]
  },
  {
   "cell_type": "code",
   "execution_count": null,
   "metadata": {},
   "outputs": [],
   "source": [
    "df['OFFENSE_CODE_GROUP'].value_counts().nlargest(4)"
   ]
  },
  {
   "cell_type": "code",
   "execution_count": null,
   "metadata": {},
   "outputs": [],
   "source": [
    "sns.catplot(y='OFFENSE_CODE_GROUP',\n",
    "            kind='count',\n",
    "            height=10,\n",
    "            aspect=2,\n",
    "            order=df['OFFENSE_CODE_GROUP'].value_counts().nlargest(4).index,\n",
    "            data=df)\n",
    "plt.xticks(size=15)\n",
    "plt.yticks(size=15)\n",
    "plt.xlabel(\"Jumlah Tindak Kriminal\", fontsize = 15)\n",
    "plt.ylabel(\"Jenis Tindak Kriminal\", fontsize = 15)\n",
    "plt.title(\"Jumlah Tindak Kriminal berdasarkan Jenisnya\", fontsize = 30)"
   ]
  },
  {
   "attachments": {},
   "cell_type": "markdown",
   "metadata": {},
   "source": [
    "Berdasarkan grafik di atas, tindak kriminal terbanyak adalah Motor Vehicle Accident Response"
   ]
  },
  {
   "attachments": {},
   "cell_type": "markdown",
   "metadata": {},
   "source": [
    "## **Tindak Kriminal Terbanyak berdasarkan Distrik**\n",
    "\n",
    "Dapat dilihat bahwa 5 distrik teratas yang memiliki laporan tindak kriminal terbanyak adalah distrik:\n",
    "- D4\n",
    "- B2\n",
    "- C11\n",
    "- A1\n",
    "- B3\n",
    "\n",
    "Sedangkan jenis tindak kriminal yang dilaporkan terbanyak berdasarkan distrik ini adalah Larceny dan Motor Vehicle Accident Response."
   ]
  },
  {
   "cell_type": "code",
   "execution_count": null,
   "metadata": {},
   "outputs": [],
   "source": [
    "df.groupby(['DISTRICT'])['OFFENSE_CODE_GROUP'].value_counts().nlargest(5)"
   ]
  },
  {
   "cell_type": "code",
   "execution_count": null,
   "metadata": {},
   "outputs": [],
   "source": [
    "# Map the Top District\n",
    "\n",
    "topdist = df[df['DISTRICT'].isin(['D4', 'B2', 'C11', 'A1', 'B3'])]\n",
    "\n",
    "fig = px.scatter_mapbox(topdist,\n",
    "                        center = dict(lat = 42.321145,                       \n",
    "                        lon = -71.057083),\n",
    "                        zoom = 10,\n",
    "                        lat='Lat', lon='Long',\n",
    "                        hover_name='INCIDENT_NUMBER',\n",
    "                        hover_data=['DISTRICT', 'OFFENSE_CODE_GROUP'],\n",
    "                        height=1200,\n",
    "                        color='DISTRICT')\n",
    "\n",
    "fig.update_layout(mapbox_style='open-street-map')\n",
    "fig.show()"
   ]
  },
  {
   "cell_type": "code",
   "execution_count": null,
   "metadata": {},
   "outputs": [],
   "source": []
  },
  {
   "attachments": {},
   "cell_type": "markdown",
   "metadata": {},
   "source": [
    "## **Tindak Kriminal Berdasarkan Lokasi**\n",
    "\n",
    "Berdasarkan 4 Jenis Tindak Kriminal terbanyak yang dilaporkan dari durasi perekaman data:\n",
    "- Motor Vehicle Accident Response cenderung banyak dilaporkan di distrik A1, B2, B3, C11, dan D4 ;\n",
    "- Larceny cenderung banyak dilaporkan di distrik A1 dan D4;\n",
    "- Medical Assistance banyak dilaporkan di distrik D4, B2, dan C11;\n",
    "- Investigate Person banyak dilaporkan di distrik D4, B2, dan C11.\n",
    "\n",
    "Distrik yang memiliki kecenderungan hotspot laporan tindak kriminal memiliki kesamaan, yaitu dekat dengan perairan, yang mana bisa diartikan sebagai area yang dekat dengan pelabuhan sebagai lokasi aktivitas ekonomi yang cukup padat."
   ]
  },
  {
   "cell_type": "code",
   "execution_count": null,
   "metadata": {},
   "outputs": [],
   "source": [
    "# Buat Heatmap All Data\n",
    "\n",
    "map_heat = fo.Map(location=[42.321145,-71.057083],\n",
    "                    zoom_start = 11,\n",
    "                    min_zoom=10,\n",
    "                    tiles= 'openstreetmap' )\n",
    "\n",
    "fo.CircleMarker([42.331145,-71.064083],\n",
    "                    radius=70,\n",
    "                    color='red',\n",
    "                    ).add_to(map_heat)\n",
    "\n",
    "data_heatmap = df[['Lat','Long']]\n",
    "data_heatmap = [[row['Lat'],row['Long']] for index, row in data_heatmap.iterrows()]\n",
    "HeatMap(data_heatmap, radius=15).add_to(map_heat)\n",
    "\n",
    "map_heat"
   ]
  },
  {
   "attachments": {},
   "cell_type": "markdown",
   "metadata": {},
   "source": [
    "**OFFENSE CODE GROUP = Motor Vehicle Accident Response (MVAR)**"
   ]
  },
  {
   "cell_type": "code",
   "execution_count": null,
   "metadata": {},
   "outputs": [],
   "source": [
    "# Filter data hanya M V A R\n",
    "MVAR = df[df['OFFENSE_CODE_GROUP']=='Motor Vehicle Accident Response']\n",
    "\n",
    "# Buat Heatmapnya\n",
    "map_MVAR = fo.Map(location=[42.326145,-71.057083],\n",
    "                    zoom_start = 11,\n",
    "                    min_zoom=10,\n",
    "                    tiles= 'openstreetmap' )\n",
    "\n",
    "fo.CircleMarker([42.320145,-71.064083],\n",
    "                    radius=70,\n",
    "                    color='red',\n",
    "                    ).add_to(map_MVAR)\n",
    "\n",
    "data_heatmap = MVAR[['Lat','Long']]\n",
    "data_heatmap = [[row['Lat'],row['Long']] for index, row in data_heatmap.iterrows()]\n",
    "HeatMap(data_heatmap, radius=14).add_to(map_MVAR)\n",
    "\n",
    "map_MVAR"
   ]
  },
  {
   "attachments": {},
   "cell_type": "markdown",
   "metadata": {},
   "source": [
    "**OFFENSE CODE GROUP = Larency**"
   ]
  },
  {
   "cell_type": "code",
   "execution_count": null,
   "metadata": {},
   "outputs": [],
   "source": [
    "# Filter data hanya Larceny\n",
    "LAR = df[df['OFFENSE_CODE_GROUP']=='Larceny']\n",
    "\n",
    "# Buat Heatmapnya\n",
    "map_LAR = fo.Map(location=[42.341145,-71.057083],\n",
    "                    zoom_start = 11,\n",
    "                    min_zoom=10,\n",
    "                    tiles= 'openstreetmap' )\n",
    "\n",
    "fo.CircleMarker([42.341145,-71.064083],\n",
    "                    radius=50,\n",
    "                    color='red',\n",
    "                    ).add_to(map_LAR)\n",
    "\n",
    "data_heatmap = LAR[['Lat','Long']]\n",
    "data_heatmap = [[row['Lat'],row['Long']] for index, row in data_heatmap.iterrows()]\n",
    "HeatMap(data_heatmap, radius=13).add_to(map_LAR)\n",
    "\n",
    "map_LAR"
   ]
  },
  {
   "attachments": {},
   "cell_type": "markdown",
   "metadata": {},
   "source": [
    "**OFFENSE CODE GROUP = Medical Assistance**"
   ]
  },
  {
   "cell_type": "code",
   "execution_count": null,
   "metadata": {},
   "outputs": [],
   "source": [
    "# Filter data hanya Medical Assistance\n",
    "MA = df[df['OFFENSE_CODE_GROUP']=='Medical Assistance']\n",
    "\n",
    "# Buat Heatmapnya\n",
    "map_MA = fo.Map(location=[42.321145,-71.057083],\n",
    "                    zoom_start = 11,\n",
    "                    min_zoom=10,\n",
    "                    tiles= 'openstreetmap' )\n",
    "\n",
    "fo.CircleMarker([42.331145,-71.064083],\n",
    "                    radius=70,\n",
    "                    color='red',\n",
    "                    ).add_to(map_MA)\n",
    "\n",
    "data_heatmap = MA[['Lat','Long']]\n",
    "data_heatmap = [[row['Lat'],row['Long']] for index, row in data_heatmap.iterrows()]\n",
    "HeatMap(data_heatmap, radius=14).add_to(map_MA)\n",
    "\n",
    "map_MA"
   ]
  },
  {
   "attachments": {},
   "cell_type": "markdown",
   "metadata": {},
   "source": [
    "**OFFENSE CODE GROUP = Investigate Person**\n",
    "\n",
    "Berdasarkan plot heatmap, tindak kejahatan Investigate Person kerap terjadi di"
   ]
  },
  {
   "cell_type": "code",
   "execution_count": null,
   "metadata": {},
   "outputs": [],
   "source": [
    "# Filter data hanya Investigate Person\n",
    "IP = df[df['OFFENSE_CODE_GROUP']=='Investigate Person']\n",
    "\n",
    "# Buat Heatmapnya\n",
    "map_IP = fo.Map(location=[42.301145,-71.057083],\n",
    "                    zoom_start = 11, min_zoom=11, tiles= 'openstreetmap')\n",
    "\n",
    "fo.CircleMarker([42.321145,-71.064083],\n",
    "                    radius=100,\n",
    "                    color='red',\n",
    "                    ).add_to(map_IP)\n",
    "\n",
    "data_heatmap = IP[['Lat','Long']]\n",
    "data_heatmap = [[row['Lat'],row['Long']] for index, row in data_heatmap.iterrows()]\n",
    "HeatMap(data_heatmap, radius=14).add_to(map_IP)\n",
    "\n",
    "map_IP"
   ]
  },
  {
   "attachments": {},
   "cell_type": "markdown",
   "metadata": {},
   "source": [
    "## **Kecenderungan Perpindahan Tindak Kriminal dari Tahun ke Tahun**\n",
    "\n",
    "Berdasarkan plot heatmap ke peta, kecenderungan hotspot laporan tindak kriminal setiap tahunnya berada di distrik A1, B4, C11, dan D2.\n",
    "Distrik yang memiliki kecenderungan hotspot laporan tindak kriminal setiap tahunnya memiliki kesamaan, yaitu dekat dengan perairan, yang mana bisa diartikan sebagai area yang dekat dengan pelabuhan sebagai lokasi aktivitas ekonomi yang cukup padat."
   ]
  },
  {
   "attachments": {},
   "cell_type": "markdown",
   "metadata": {},
   "source": [
    "**Tahun 2015 (Heatmap All)**"
   ]
  },
  {
   "cell_type": "code",
   "execution_count": null,
   "metadata": {},
   "outputs": [],
   "source": [
    "# Filter data hanya tahun 2015\n",
    "y15 = df[df['YEAR']== 2015]\n",
    "\n",
    "# Buat Heatmapnya\n",
    "map_y15 = fo.Map(location=[42.321145,-71.057083],\n",
    "                    zoom_start = 11,\n",
    "                    min_zoom=11,\n",
    "                    tiles= 'openstreetmap' )\n",
    "\n",
    "fo.CircleMarker([42.331145,-71.064083],\n",
    "                    radius=70,\n",
    "                    color='red',\n",
    "                    ).add_to(map_y15)\n",
    "\n",
    "data_heatmap = y15[['Lat','Long']]\n",
    "data_heatmap = [[row['Lat'],row['Long']] for index, row in data_heatmap.iterrows()]\n",
    "HeatMap(data_heatmap, radius=14).add_to(map_y15)\n",
    "\n",
    "map_y15"
   ]
  },
  {
   "attachments": {},
   "cell_type": "markdown",
   "metadata": {},
   "source": [
    "**Tahun 2016 (Heatmap All)**"
   ]
  },
  {
   "cell_type": "code",
   "execution_count": null,
   "metadata": {},
   "outputs": [],
   "source": [
    "# Filter data hanya tahun 2016\n",
    "y16 = df[df['YEAR']== 2016]\n",
    "\n",
    "# Buat Heatmapnya\n",
    "map_y16 = fo.Map(location=[42.321145,-71.057083],\n",
    "                    zoom_start = 11,\n",
    "                    min_zoom=11,\n",
    "                    tiles= 'openstreetmap' )\n",
    "\n",
    "fo.CircleMarker([42.331145,-71.064083],\n",
    "                    radius=70,\n",
    "                    color='red',\n",
    "                    ).add_to(map_y16)\n",
    "\n",
    "data_heatmap = y16[['Lat','Long']]\n",
    "data_heatmap = [[row['Lat'],row['Long']] for index, row in data_heatmap.iterrows()]\n",
    "HeatMap(data_heatmap, radius=14).add_to(map_y16)\n",
    "\n",
    "map_y16"
   ]
  },
  {
   "attachments": {},
   "cell_type": "markdown",
   "metadata": {},
   "source": [
    "**Tahun 2017 (Heatmap All)**"
   ]
  },
  {
   "cell_type": "code",
   "execution_count": null,
   "metadata": {},
   "outputs": [],
   "source": [
    "# Filter data hanya tahun 2017\n",
    "y17 = df[df['YEAR']== 2017]\n",
    "\n",
    "# Buat Heatmapnya\n",
    "map_y17 = fo.Map(location=[42.321145,-71.057083],\n",
    "                    zoom_start = 11,\n",
    "                    min_zoom=11,\n",
    "                    tiles= 'openstreetmap' )\n",
    "\n",
    "fo.CircleMarker([42.331145,-71.064083],\n",
    "                    radius=70,\n",
    "                    color='red',\n",
    "                    ).add_to(map_y17)\n",
    "\n",
    "data_heatmap = y17[['Lat','Long']]\n",
    "data_heatmap = [[row['Lat'],row['Long']] for index, row in data_heatmap.iterrows()]\n",
    "HeatMap(data_heatmap, radius=14).add_to(map_y17)\n",
    "\n",
    "map_y17"
   ]
  },
  {
   "attachments": {},
   "cell_type": "markdown",
   "metadata": {},
   "source": [
    "**Tahun 2018 (Heatmap All)**"
   ]
  },
  {
   "cell_type": "code",
   "execution_count": null,
   "metadata": {},
   "outputs": [],
   "source": [
    "# Filter data hanya tahun 2018\n",
    "y18 = df[df['YEAR']== 2018]\n",
    "\n",
    "# Buat Heatmapnya\n",
    "map_y18 = fo.Map(location=[42.321145,-71.057083],\n",
    "                    zoom_start = 11,\n",
    "                    min_zoom=11,\n",
    "                    tiles= 'openstreetmap' )\n",
    "\n",
    "fo.CircleMarker([42.331145,-71.064083],\n",
    "                    radius=70,\n",
    "                    color='red',\n",
    "                    ).add_to(map_y18)\n",
    "\n",
    "data_heatmap = y18[['Lat','Long']]\n",
    "data_heatmap = [[row['Lat'],row['Long']] for index, row in data_heatmap.iterrows()]\n",
    "HeatMap(data_heatmap, radius=14).add_to(map_y18)\n",
    "\n",
    "map_y18"
   ]
  },
  {
   "attachments": {},
   "cell_type": "markdown",
   "metadata": {},
   "source": [
    "## **Perbedaan Jumlah Tindak Kriminal berdasarkan Waktu dalam sehari**\n",
    "\n",
    "Tindak kriminal yang dilaporkan cenderung banyak di pagi dan siang hari.\n",
    "Berdasarkan waktunya, jenis tindak kriminal tertinggi sebagai berikut:\n",
    "\n",
    "    - Malam hari adalah Motor Vehicle Accident Response sebanyak 4331\n",
    "    - Pagi hari adalah Motor Vehicle Accident Response sebanyak 6629\n",
    "    - Siang hari adalah Larceny sebanyak 10633\n",
    "    - Sore hari adalah Motor Vehicle Accident Response sebanyak 9605\n"
   ]
  },
  {
   "cell_type": "code",
   "execution_count": null,
   "metadata": {},
   "outputs": [],
   "source": [
    "# Penambahan kolom pagi-siang-sore-malam\n",
    "\n",
    "def cat(row):\n",
    "    if 5 <= row['HOUR'] <= 10:\n",
    "        val = 'Pagi'\n",
    "    elif 11 <= row['HOUR'] <= 16:\n",
    "        val = 'Siang'\n",
    "    elif 17 <= row['HOUR'] <= 22:\n",
    "        val = 'Sore'\n",
    "    else:\n",
    "        val = 'Malam'\n",
    "    return val\n",
    "\n",
    "df['HOUR_CAT'] = df.apply(cat, axis = 1)"
   ]
  },
  {
   "cell_type": "code",
   "execution_count": null,
   "metadata": {},
   "outputs": [],
   "source": [
    "df.groupby('HOUR_CAT')['OFFENSE_CODE_GROUP'].value_counts().nlargest(20).sort_index()"
   ]
  },
  {
   "cell_type": "code",
   "execution_count": null,
   "metadata": {},
   "outputs": [],
   "source": [
    "# Grafik jumlah tindakan kriminal berdasarkan kategori waktu (HOUR_CAT)\n",
    "\n",
    "sns.catplot(x='HOUR_CAT',\n",
    "            kind='count',\n",
    "            height=15, \n",
    "            aspect=1,\n",
    "            data=df,\n",
    "            order=['Pagi', 'Siang', 'Sore', 'Malam'])\n",
    "plt.xticks(size=30)\n",
    "plt.yticks(size=30)\n",
    "plt.title('Grafik Jumlah Tindak Kriminal Berdasarkan Kategori Waktu', fontsize = 40)\n",
    "plt.ylabel('Jumlah Tindak Kriminal', fontsize=30)"
   ]
  },
  {
   "attachments": {},
   "cell_type": "markdown",
   "metadata": {},
   "source": [
    "## **Perbedaan Jumlah Tindak Kriminal berdasarkan Hari**\n",
    "\n",
    "Jumlah pelaporan tindak kriminal terbanyak ada di hari Jumat (Friday), dengan persentase 15,22%."
   ]
  },
  {
   "cell_type": "code",
   "execution_count": null,
   "metadata": {},
   "outputs": [],
   "source": [
    "sns.catplot(x = 'DAY_OF_WEEK',\n",
    "           kind = 'count',\n",
    "           height = 15, \n",
    "           aspect = 2,\n",
    "           data = df,\n",
    "           order = ['Monday', 'Tuesday', 'Wednesday', 'Thursday', 'Friday', 'Saturday', 'Sunday'] )\n",
    "plt.xticks(size = 30)\n",
    "plt.yticks(size = 30)\n",
    "plt.xlabel('')\n",
    "plt.ylabel('Count', fontsize = 40)"
   ]
  },
  {
   "cell_type": "code",
   "execution_count": null,
   "metadata": {},
   "outputs": [],
   "source": [
    "dow_count = df['DAY_OF_WEEK'].value_counts()\n",
    "\n",
    "plt.pie(data = df,\n",
    "        x = dow_count,\n",
    "        labels = ['Friday', 'Wednesday', 'Thursday', 'Tuesday', 'Monday', 'Saturday',\n",
    "       'Sunday'],\n",
    "        colors = sns.color_palette('bright'),\n",
    "        autopct = '%.2f%%'\n",
    "           )\n",
    "plt.xticks(size = 30)\n",
    "plt.yticks(size = 30)\n",
    "\n"
   ]
  },
  {
   "attachments": {},
   "cell_type": "markdown",
   "metadata": {},
   "source": [
    "## **Kecenderungan Jenis Tindak Kriminal di Hari Tertentu**\n",
    "\n",
    "Pelaporan Motor Vehicle Accident Response adalah jenis terbanyak di setiap harinya, diikuti dengan Larceny dan Medical Assistance. "
   ]
  },
  {
   "cell_type": "code",
   "execution_count": null,
   "metadata": {},
   "outputs": [],
   "source": [
    "df.groupby(['DAY_OF_WEEK'])['OFFENSE_CODE_GROUP'].value_counts().nlargest(14).sort_index()"
   ]
  },
  {
   "attachments": {},
   "cell_type": "markdown",
   "metadata": {},
   "source": [
    "## **Conclusions**\n",
    "\n",
    "Keismpulan dari analisis sebagai berikut:\n",
    "1. - Jumlah pelaporan tindak kriminal mengalami peningkatan pada tahun 2016 ke 2017.\n",
    "   - Berdasarkan 4 musim yang ada, pada musim semi (spring, sekitar pertengahan bulan Maret hingga Juni) jumlah tindak kriminal selalu paling rendah dibandingkan pada musim-musim yang lain.\n",
    "   - Selalu terjadi kenaikan jumlah tindak kriminal dari musim semi (spring) dan puncak pada tahun tersebut ada di musim panas (summer), kejadian ini selalu terjadi di tahun 2016 hingga 2018.\n",
    "\n",
    "2. Jenis tindak kriminal yang dilaporkan terbanyak sebagai berikut:\n",
    "    - Motor Vehicle Accident Response sebanyak   30376\n",
    "    - Larceny                             sebanyak 25057\n",
    "    - Medical Assistance                  sebanyak 22361\n",
    "    - Investigate Person                  sebanyak 17963\n",
    "\n",
    "3. Distrik yang banyak dilaporkan terdapat tindak kriminal dan juga jenisnya sebagai berikut:\n",
    "\n",
    "    - Pada Distrik D4        adalah Larceny sebanyak                            7141\n",
    "    - Pada Distrik B2        adalah Motor Vehicle Accident Response sebanyak   4971\n",
    "    - Pada Distrik C11      adalah Motor Vehicle Accident Response sebanyak    4758\n",
    "    - Pada Distrik A1       adalah Larceny sebanyak                            4477\n",
    "    - Pada Distrik B3        adalah Motor Vehicle Accident Response sebanyak    3255\n",
    "\n",
    "4. Berdasarkan 4 Jenis Tindak Kriminal terbanyak yang dilaporkan dari durasi perekaman data:\n",
    "    - Motor Vehicle Accident Response cenderung banyak dilaporkan di distrik A1, B2, B3, C11, dan D4 ;\n",
    "    - Larceny cenderung banyak dilaporkan di distrik A1 dan D4;\n",
    "    - Medical Assistance banyak dilaporkan di distrik B2, C11, dan D4;\n",
    "    - Investigate Person banyak dilaporkan di distrik B2, C11, dan D4.\n",
    "\n",
    "5. Kecenderungan kejadian tindak kriminal yang dilaporkan ada di distrik A1, B4, C11, dan D12.\n",
    "Distrik yang memiliki kecenderungan hotspot laporan tindak kriminal setiap tahunnya memiliki kesamaan, yaitu dekat dengan perairan, yang mana bisa diartikan sebagai area yang dekat dengan pelabuhan sebagai lokasi aktivitas ekonomi yang cukup padat.\n",
    "\n",
    "6. Tindak kriminal yang dilaporkan cenderung banyak di pagi dan siang hari.\n",
    "Berdasarkan waktunya, jenis tindak kriminal tertinggi sebagai berikut:\n",
    "\n",
    "    - Malam hari adalah    Motor Vehicle Accident Response     sebanyak 4331\n",
    "    - Pagi hari adalah      Motor Vehicle Accident Response     sebanyak 6629\n",
    "    - Siang hari adalah     Larceny                            sebanyak 10633\n",
    "    - Sore hari adalah     Motor Vehicle Accident Response     sebanyak 9605\n",
    "\n",
    "7. Pelaporan Motor Vehicle Accident Response adalah jenis terbanyak di setiap harinya, diikuti dengan Larceny dan Medical Assistance. \n",
    "\n"
   ]
  },
  {
   "attachments": {},
   "cell_type": "markdown",
   "metadata": {},
   "source": [
    "## **Recommendation**\n",
    "\n",
    "Berdasarkan hasil analisis data yang dimiliki (14 Juni 2015 hingga 3 September 2018), terdapat beberapa rekomendasi yang dapat diberikan, antara lain:\n",
    "\n",
    "1. Jenis laporan terbanyak adalah kecelakaan kendaraan bermotor (Motor Vehicle Accident Response), bisa jadi penempatan rambu lalu lintas kurang baik atau jumlah rambu lalu lintas tidak memadai. Bisa menjadi dasar untuk kegiatan Monitoring dan Evaluasi pemasangan rambu lalu lintas. \n",
    "Jenis laporan terbanyak kedua adalah tindak pencurian (Larceny), hal ini mungkin dapat dimitigasi risikonya dengan menambahkan CCTV di sudut-sudu jalan.\n",
    "Jenis laporan terbanyak ketiga adalah keperluan tindakan medis (Medical Assistance), dapat menjadi dasar dalam pemberian pelatihan pada petugas yang khususnya berpatroli di distrik B2, C11, dan D4 (banyak laporan keperluan tindakan medis di ketiga distrik tersebut).\n",
    "\n",
    "2. Pelaporan kejadian kecelakaan kendaraan bermotor selalu dilaporkan di setiap hari, diikuti juga tindak pencurian dan kebutuhan tindakan medis.\n",
    "\n",
    "3. Terdapat tren bahwa pada musim gugur (Fall), tindak kriminal yang dilaporkan jumlahnya paling banyak. Sebaliknya pada awal hingga pertengahan musim semi (Spring), tindak kriminal yang dilaporkan nilainya paling sedikit. Hal ini dapat menjadi dasar untuk evaluasi penambahan jumlah personil yang bertugas dalam jangka waktu tertentu (bisa jadi menggunakan skema penambahan shift kerja).\n",
    "\n",
    "4. Distrik yang banyak mendapat laporan adalah distrik A1, B3, B4, C11, dan D2 yang mana lokasinya dekat dengan perairan/dermaga. Dapat menjadi dasar untuk menambahkan personil polisi atau CCTV untuk memitigasi banyaknya tindak kriminal. \n",
    "\n",
    "5. Jika terdapat kepentingan berinvestasi, rekreasi (turisme), atau mencari rumah tinggal, bisa menjadi pertimbangan untuk menghindari distrik dengan pelaporan terbanyak, yaitu menghindari distrik A1, B3, B4, C11, dan D2.\n",
    "    "
   ]
  },
  {
   "cell_type": "code",
   "execution_count": null,
   "metadata": {},
   "outputs": [],
   "source": [
    "df.to_csv(r'D:\\PURWADHIKA\\CAPSTONE PROJECT\\MODULE 2\\Crime in Boston\\Crime_Boston_Clean.csv')"
   ]
  }
 ],
 "metadata": {
  "kernelspec": {
   "display_name": "Python 3",
   "language": "python",
   "name": "python3"
  },
  "language_info": {
   "codemirror_mode": {
    "name": "ipython",
    "version": 3
   },
   "file_extension": ".py",
   "mimetype": "text/x-python",
   "name": "python",
   "nbconvert_exporter": "python",
   "pygments_lexer": "ipython3",
   "version": "3.10.8 (tags/v3.10.8:aaaf517, Oct 11 2022, 16:50:30) [MSC v.1933 64 bit (AMD64)]"
  },
  "orig_nbformat": 4,
  "vscode": {
   "interpreter": {
    "hash": "76b3323b6cd9dbe4e7eda16d387f6e5179255e66e26ab36f90c4d323d9f9e73f"
   }
  }
 },
 "nbformat": 4,
 "nbformat_minor": 2
}
